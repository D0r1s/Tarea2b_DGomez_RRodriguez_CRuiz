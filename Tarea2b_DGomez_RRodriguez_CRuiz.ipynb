{
 "cells": [
  {
   "cell_type": "markdown",
   "metadata": {},
   "source": [
    "<img style=\"float: left; margin: 30px 15px 15px 15px;\" src=\"https://pngimage.net/wp-content/uploads/2018/06/logo-iteso-png-5.png\" width=\"300\" height=\"500\" /> \n",
    "    \n",
    "    \n",
    "### <font color='navy'> Simulación de procesos financieros. \n",
    "\n",
    "**Nombres:** Ricardo Rodriguez, Doris Gomez, Carlos Ruiz.\n",
    "\n",
    "**Fecha:** 18 de septiembre del 2020.\n",
    "\n",
    "**Expediente** : IF722544, IF707135, IF713897.\n",
    "**Profesor:** Oscar David Jaramillo Zuluaga.\n",
    "\n",
    "# Tarea 2b: Clase 5"
   ]
  },
  {
   "cell_type": "markdown",
   "metadata": {},
   "source": [
    "\n",
    "# Github en el cual realizamos el trabajo\n",
    "\n",
    "https://github.com/D0r1s/Tarea2b_DGomez_RRodriguez_CRuiz/blob/master/Tarea2b_DGomez_RRodriguez_CRuiz.ipynbk\n"
   ]
  },
  {
   "cell_type": "markdown",
   "metadata": {},
   "source": [
    "### Tarea 2: Segunda entrega(Usando notebook de jupyter)**\n",
    "Usando compresión de listas o funciones map o según lo indique, resolver los siguientes ejercicios:"
   ]
  },
  {
   "cell_type": "markdown",
   "metadata": {},
   "source": [
    "## Ejercicio 1:\n",
    "1. Imagine una rutina contable utilizada en una librería. Funciona en una lista con sublistas, que se ven así:\n",
    "![imagen.png](attachment:imagen.png)\n",
    "Escriba un programa en Python, que devuelve una lista con tuplas de tamaño 2. Cada tupla consiste en el número de pedido y el costo total del pedido. El producto debe aumentarse en 10€ si el valor de la orden es inferior a 100,00 €. \n",
    "Escribe un programa Python usando unicamente las funciones **lambda y map**.\n",
    "\n",
    "`orders = [ [\"34587\", \"Learning Python, Mark Lutz\", 4, 40.95], \n",
    "           [\"98762\", \"Programming Python, Mark Lutz\", 5, 56.80], \n",
    "           [\"77226\", \"Head First Python, Paul Barry\", 3,32.95],\n",
    "           [\"88112\", \"Einführung in Python3, Bernd Klein\", 3, 24.99]]`"
   ]
  },
  {
   "cell_type": "code",
   "execution_count": 4,
   "metadata": {},
   "outputs": [
    {
     "name": "stdout",
     "output_type": "stream",
     "text": [
      "[('34587', 163.8), ('98762', 284.0), ('77226', 108.85000000000001), ('88112', 84.97)]\n"
     ]
    },
    {
     "data": {
      "text/plain": [
       "[('34587', 163.8),\n",
       " ('98762', 284.0),\n",
       " ('77226', 108.85000000000001),\n",
       " ('88112', 84.97)]"
      ]
     },
     "execution_count": 4,
     "metadata": {},
     "output_type": "execute_result"
    }
   ],
   "source": [
    "### Respuestas planteadas en el ejercicio:\n",
    "#solucion Ricks\n",
    "orders = [ [\"34587\", \"Learning Python, Mark Lutz\", 4, 40.95], \n",
    "           [\"98762\", \"Programming Python, Mark Lutz\", 5, 56.80], \n",
    "           [\"77226\", \"Head First Python, Paul Barry\", 3,32.95],\n",
    "           [\"88112\", \"Einführung in Python3, Bernd Klein\", 3, 24.99]]\n",
    "minimum= 100\n",
    "totals = list(map(lambda x: x if x[1] >= minimum else (x[0], x[1] + 10), map(lambda x: (x[0],x[2] * x[3]), orders)))\n",
    "print(totals)\n",
    "\n",
    "### SOLUCION Doris:\n",
    "\n",
    "sol1 = list(map(lambda x: (x[0],x[2]*x[3]) if x[2]*x[3] >= 100 else (x[0],x[2]*x[3]+10),orders))\n",
    "sol1\n",
    "\n",
    "#Solución Carlos\n",
    "\n",
    "r = list(map(lambda x: (x[0],x[2]*x[3]+10) if x[2]*x[3]  <= 100 else (x[0],x[2]*x[3]) ,orders))\n",
    "r\n"
   ]
  },
  {
   "cell_type": "markdown",
   "metadata": {},
   "source": [
    "### Respuesta planteada en el ejercicio:\n",
    "En este ejercicio imprime lo solicitado aumentando 10 únicamente cuando es menor a 100."
   ]
  },
  {
   "cell_type": "markdown",
   "metadata": {},
   "source": [
    "## Ejercicio 2:\n",
    "2. La misma librería, pero esta vez trabajamos en una lista diferente. Las sublistas de nuestras listas se ven así: \n",
    "[número de orden, (número de artículo, cantidad, precio por unidad), ... (número de artículo, cantidad, precio por unidad)] \n",
    "\n",
    "`orders = [[1, (\"5464\", 4, 9.99), (\"8274\",18,12.99), (\"9744\", 9, 44.95)], \n",
    "\t       [2, (\"5464\", 9, 9.99), (\"9744\", 9, 44.95)],\n",
    "\t       [3, (\"5464\", 9, 9.99), (\"88112\", 11, 24.99)],\n",
    "           [4, (\"8732\", 7, 11.99), (\"7733\",11,18.99), (\"88112\", 5, 39.95)] ]`\n",
    "\n",
    "Escriba un programa que devuelva una lista de dos tuplas que tengan la información de (número de pedido, cantidad total de pedido). Utilice la función `Reduce`. Recuerde el precio del pedido del producto debe aumentarse en 10€ si el valor de la orden es inferior a 100,00 €."
   ]
  },
  {
   "cell_type": "code",
   "execution_count": 17,
   "metadata": {},
   "outputs": [
    {
     "name": "stdout",
     "output_type": "stream",
     "text": [
      "[[1, 678.3299999999999], [2, 494.46000000000004], [3, 364.79999999999995], [4, 492.57]]\n"
     ]
    }
   ],
   "source": [
    "### Respuestas planteadas en el ejercicio:\n",
    "#solucion Ricks\n",
    "from functools import reduce\n",
    "orders = [ [1, (\"5464\", 4, 9.99), (\"8274\",18,12.99), (\"9744\", 9, 44.95)], \n",
    "           [2, (\"5464\", 9, 9.99), (\"9744\", 9, 44.95)],\n",
    "           [3, (\"5464\", 9, 9.99), (\"88112\", 11, 24.99)],\n",
    "           [4, (\"8732\", 7, 11.99), (\"7733\",11,18.99), (\"88112\", 5, 39.95)] ]\n",
    "minimum_needed = 100\n",
    "totals = list(map(lambda x: [x[0]] + list(map(lambda y: y[1]*y[2], x[1:])), orders))\n",
    "totals = list(map(lambda x: [x[0]] + [reduce(lambda a,b: a + b, x[1:])], totals))\n",
    "totals = list(map(lambda x: x if x[1] >= minimum_needed else (x[0], x[1] + 10), totals))\n",
    "\n",
    "print (totals)\n",
    "\n",
    "### SOLUCION Doris:\n",
    "import numpy as np\n",
    "R = list(map(lambda x: [x[0]] + list(map(lambda y:y[1]*y[2],x[1:])),orders))\n",
    "V = np.array(R)\n",
    "#F = list(map(lambda x: x[2]*x[3],R))\n",
    "#[R[0]*R[1] for i in R]"
   ]
  },
  {
   "cell_type": "markdown",
   "metadata": {},
   "source": [
    "### Respuesta planteada en el ejercicio:\n",
    "Como lo solicita  los valores se multiplican y arroja el index y la catidad."
   ]
  },
  {
   "cell_type": "markdown",
   "metadata": {},
   "source": [
    "## Ejercicio 3:\n",
    "\n",
    "3. Resolver los anteriores ejercicios usando pandas (DataFrame)"
   ]
  },
  {
   "cell_type": "code",
   "execution_count": 9,
   "metadata": {},
   "outputs": [
    {
     "name": "stdout",
     "output_type": "stream",
     "text": [
      "       0                                   1  2      3  Answer\n",
      "0  34587          Learning Python, Mark Lutz  4  40.95  163.80\n",
      "1  98762       Programming Python, Mark Lutz  5  56.80  284.00\n",
      "2  77226       Head First Python, Paul Barry  3  32.95  108.85\n",
      "3  88112  Einführung in Python3, Bernd Klein  3  24.99   84.97\n",
      "       0                                   1  2      3\n",
      "0  34587          Learning Python, Mark Lutz  4  40.95\n",
      "1  98762       Programming Python, Mark Lutz  5  56.80\n",
      "2  77226       Head First Python, Paul Barry  3  32.95\n",
      "3  88112  Einführung in Python3, Bernd Klein  3  24.99\n"
     ]
    }
   ],
   "source": [
    "### Respuestas planteadas en el ejercicio:\n",
    "#solucion Ricky\n",
    "import pandas as pd\n",
    "orders1 = [ [\"34587\", \"Learning Python, Mark Lutz\", 4, 40.95], \n",
    "           [\"98762\", \"Programming Python, Mark Lutz\", 5, 56.80], \n",
    "           [\"77226\", \"Head First Python, Paul Barry\", 3,32.95],\n",
    "           [\"88112\", \"Einführung in Python3, Bernd Klein\", 3, 24.99]]\n",
    "orders2= orders1\n",
    "s1,s2 =pd.DataFrame(orders1),pd.DataFrame(orders2)\n",
    "\n",
    "\n",
    "additional = lambda k: k if k>= 100 else k+10\n",
    "X = s1.iloc[:,2]* s1.iloc[:,3]\n",
    "\n",
    "\n",
    "s1['Answer']  = X.apply(additional)\n",
    "print(s1)\n",
    "######## Solución 3.1 Doris\n",
    "import pandas as pd\n",
    "o_1 = [ [\"34587\", \"Learning Python, Mark Lutz\", 4, 40.95], \n",
    "           [\"98762\", \"Programming Python, Mark Lutz\", 5, 56.80], \n",
    "           [\"77226\", \"Head First Python, Paul Barry\", 3,32.95],\n",
    "           [\"88112\", \"Einführung in Python3, Bernd Klein\", 3, 24.99]]\n",
    "o_2 = [ [\"34587\", \"Learning Python, Mark Lutz\", 4, 40.95], \n",
    "           [\"98762\", \"Programming Python, Mark Lutz\", 5, 56.80], \n",
    "           [\"77226\", \"Head First Python, Paul Barry\", 3,32.95],\n",
    "           [\"88112\", \"Einführung in Python3, Bernd Klein\", 3, 24.99]]\n",
    "\n",
    "pd_1 =pd.DataFrame(o_1)\n",
    "pd_2=pd.DataFrame(o_2)\n",
    "\n",
    "mas = lambda x: x if x>= 100 else x+10\n",
    "T = pd_1.iloc[:,2]* pd_1.iloc[:,3]\n",
    "\n",
    "pd_1['RESPUESTAS doris']  = T.apply(mas)\n",
    "pd_1\n",
    "\n",
    "#Solución Carlos\n",
    "\n",
    "r1 = [ [\"34587\", \"Learning Python, Mark Lutz\", 4, 40.95], \n",
    "           [\"98762\", \"Programming Python, Mark Lutz\", 5, 56.80], \n",
    "           [\"77226\", \"Head First Python, Paul Barry\", 3,32.95],\n",
    "           [\"88112\", \"Einführung in Python3, Bernd Klein\", 3, 24.99]]\n",
    "r2= r1\n",
    "r2,r1 =pd.DataFrame(r1),pd.DataFrame(r2)\n",
    "\n",
    "\n",
    "x1 = lambda k: k if k>= 100 else k+10\n",
    "r3 = r1.iloc[:,2]* r1.iloc[:,3]\n",
    "\n",
    "\n",
    "s1['Respuesta']  = X.apply(x1)\n",
    "print(r1)\n"
   ]
  },
  {
   "cell_type": "markdown",
   "metadata": {},
   "source": [
    "### Respuesta planteada en el ejercicio:\n",
    "Mismo que el ejercicio pasado pero usando pandas."
   ]
  },
  {
   "cell_type": "markdown",
   "metadata": {},
   "source": [
    "## Ejercicio 4:\n",
    "4. Use filter to eliminate all words that are shorter than 4 letters from a list of words\n",
    "`list='the notion of a lambda function goes all the way back to the origin of computer science'`"
   ]
  },
  {
   "cell_type": "code",
   "execution_count": 1,
   "metadata": {},
   "outputs": [
    {
     "name": "stdout",
     "output_type": "stream",
     "text": [
      "['the', 'of', 'a', 'all', 'the', 'way', 'to', 'the', 'of']\n"
     ]
    }
   ],
   "source": [
    "### Respuestas planteadas en el ejercicio:\n",
    "#solucion Ricks\n",
    "list1=\"the notion of a lambda function goes all the way back to the origin of computer science\"\n",
    "words=list1.split()\n",
    "\n",
    "result= list(filter(lambda p : len(p) < 4, words ))\n",
    "print(result)\n",
    "\n",
    "##### SOLUCIÓN DORIS\n",
    "palabras=list1.split()\n",
    "\n",
    "SI = list(filter(lambda p : len(p) >= 4, palabras ))\n",
    "SI\n",
    "\n",
    "#Solución Carlos\n",
    "ej_5 = \"the notion of a lambda function goes all the way back to the origin of computer science\"\n",
    "split = ej_5.split()\n",
    "r = list(filter(lambda p : len(p) >= 4, split ))"
   ]
  },
  {
   "cell_type": "markdown",
   "metadata": {},
   "source": [
    "### Respuesta planteada en el ejercicio:\n",
    "En este ejercicio podemos cambiar de texto y obtener únicamente las palabras que contengan más de 4 letras."
   ]
  },
  {
   "cell_type": "markdown",
   "metadata": {},
   "source": [
    "## Ejercicio 5:\n",
    "5. Use filter to determine the percentage of Fahrenheit temperatures in a list are within the range 32 to 80"
   ]
  },
  {
   "cell_type": "code",
   "execution_count": 10,
   "metadata": {},
   "outputs": [
    {
     "name": "stdout",
     "output_type": "stream",
     "text": [
      "[ 35.97387961  99.13294268  92.6178302   99.69549478  63.21119535\n",
      "  73.90387697  95.50028838  99.21476553  36.98251238 101.45813729\n",
      " 100.5917418   89.38159435  89.52156589  83.8084752   28.37990868\n",
      "  68.75395211  45.86132067  36.58307493  56.32208365  33.96219302\n",
      "  45.29071318  74.86289938  66.51091383  88.19316186  94.26635864\n",
      "  46.83131624 109.60744472 109.68427993  44.55796499  92.84146259]\n"
     ]
    }
   ],
   "source": [
    "### Respuestas planteadas en el ejercicio:\n",
    "import numpy as np\n",
    "np.random.seed(55555)\n",
    "farenheit = np.random.uniform(25,110,30)\n",
    "print(farenheit)"
   ]
  },
  {
   "cell_type": "code",
   "execution_count": 14,
   "metadata": {},
   "outputs": [
    {
     "data": {
      "text/plain": [
       "array([35.97387961, 63.21119535, 73.90387697, 36.98251238, 68.75395211,\n",
       "       45.86132067, 36.58307493, 56.32208365, 33.96219302, 45.29071318,\n",
       "       74.86289938, 66.51091383, 46.83131624, 44.55796499])"
      ]
     },
     "execution_count": 14,
     "metadata": {},
     "output_type": "execute_result"
    }
   ],
   "source": [
    "#solucion Ricks\n",
    "filtro = list(filter(lambda t: (32  < t  < 80), farenheit))\n",
    "filtro\n",
    "## Respuestas Doris\n",
    "np.random.seed(55555)\n",
    "temperatures = np.random.uniform(25,110,30)\n",
    "#print(temperatures)\n",
    "FUN_T= lambda x: (32  < x  < 80)             \n",
    "temp_rango = list(filter(FUN_T, temperatures))\n",
    "X = np.array(temp_rango)\n",
    "X\n",
    "\n",
    "# Respuesta Carlos Ruiz\n",
    "\n",
    "temps = list(filter(lambda x: (32  < x  < 80), temperatures))\n",
    "temps"
   ]
  },
  {
   "cell_type": "markdown",
   "metadata": {},
   "source": [
    "### Respuesta planteada en el ejercicio:\n",
    "Podemos ver cómo nos regresa únicamente los valores de temperatura dentro del rango especificado en el ejercicio."
   ]
  },
  {
   "cell_type": "markdown",
   "metadata": {},
   "source": [
    "## Ejercicio 6:\n",
    "6. Use reduce to find the lower left corner (minimum x and minimum y value) for a list of point locations\n",
    "> **Hint**: Explore the command `np.minimum.reduce` [link](https://docs.scipy.org/doc/numpy/reference/generated/numpy.ufunc.reduce.html)"
   ]
  },
  {
   "cell_type": "code",
   "execution_count": 18,
   "metadata": {},
   "outputs": [
    {
     "data": {
      "text/plain": [
       "[0, 7]"
      ]
     },
     "execution_count": 18,
     "metadata": {},
     "output_type": "execute_result"
    }
   ],
   "source": [
    "### Respuestas planteadas en el ejercicio:\n",
    "#solucion Ricks\n",
    "np.random.seed(55555)\n",
    "xy_minimum = np.random.randint(0,50,[10,3])\n",
    "print(xy_minimum)\n",
    "\n",
    "## Respuestas Doris\n",
    "np.random.seed(55555)\n",
    "point_xy = np.random.randint(0,101,[30,2])\n",
    "#print(point_xy)\n",
    "[X for X in np.minimum.reduce(point_xy)]\n",
    "\n",
    "# Respuesta Carlos Ruiz\n",
    "import numpy as np\n",
    "min_xy = np.minimum.reduce(point_xy)\n",
    "min_xy\n"
   ]
  },
  {
   "cell_type": "markdown",
   "metadata": {},
   "source": [
    "### Respuesta planteada en el ejercicio:\n",
    "Utilizamos la función que nos sugeriste para poder resolver el ejercicio obteniendo el resultado mostrado arriba."
   ]
  }
 ],
 "metadata": {
  "kernelspec": {
   "display_name": "Python 3",
   "language": "python",
   "name": "python3"
  },
  "language_info": {
   "codemirror_mode": {
    "name": "ipython",
    "version": 3
   },
   "file_extension": ".py",
   "mimetype": "text/x-python",
   "name": "python",
   "nbconvert_exporter": "python",
   "pygments_lexer": "ipython3",
   "version": "3.8.3"
  }
 },
 "nbformat": 4,
 "nbformat_minor": 4
}
